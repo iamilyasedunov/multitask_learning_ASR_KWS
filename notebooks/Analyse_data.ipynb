{
 "cells": [
  {
   "cell_type": "code",
   "execution_count": 1,
   "metadata": {},
   "outputs": [],
   "source": [
    "import pandas as pd\n",
    "emo_train = pd.read_csv(\"/home/sedunov_ia/emotion_recognition/data_dusha_and_prev_emo_35k_per_class/train_before_gsm.csv\", sep='|')\n",
    "emo_test = pd.read_csv(\"/home/sedunov_ia/emotion_recognition/data_dusha_and_prev_emo_35k_per_class/test_before_gsm.csv\", sep='|')"
   ]
  },
  {
   "cell_type": "code",
   "execution_count": 3,
   "metadata": {},
   "outputs": [],
   "source": [
    "emo_train['emotions'] = emo_train['label']\n",
    "emo_train['label'], _ = pd.factorize(emo_train['emotions'])\n",
    "\n",
    "emo_test['emotions'] = emo_test['label']\n",
    "emo_test['label'], _ = pd.factorize(emo_test['emotions'])"
   ]
  },
  {
   "cell_type": "code",
   "execution_count": 5,
   "metadata": {},
   "outputs": [],
   "source": [
    "emo_train.to_csv(\"/home/sedunov_ia/emotion_recognition/data_dusha_and_prev_emo_35k_per_class/train_before_gsm.csv\", sep='|', index=False)\n",
    "emo_test.to_csv(\"/home/sedunov_ia/emotion_recognition/data_dusha_and_prev_emo_35k_per_class/test_before_gsm.csv\", sep='|', index=False)"
   ]
  },
  {
   "cell_type": "code",
   "execution_count": 4,
   "metadata": {},
   "outputs": [],
   "source": [
    "import pandas as pd\n",
    "df_cmd_kws_train = pd.read_csv('/home/sedunov_ia/project_mtl/multitask_learning_ASR_KWS/other/train_kws_cmd.csv')\n",
    "df_cmd_kws_test = pd.read_csv('/home/sedunov_ia/project_mtl/multitask_learning_ASR_KWS/other/val_kws_cmd.csv')"
   ]
  },
  {
   "cell_type": "code",
   "execution_count": 6,
   "metadata": {},
   "outputs": [
    {
     "data": {
      "text/plain": [
       "32140"
      ]
     },
     "execution_count": 6,
     "metadata": {},
     "output_type": "execute_result"
    }
   ],
   "source": [
    "len(df_cmd_kws_train) + len(df_cmd_kws_test)"
   ]
  }
 ],
 "metadata": {
  "kernelspec": {
   "display_name": "Python 3",
   "language": "python",
   "name": "python3"
  },
  "language_info": {
   "codemirror_mode": {
    "name": "ipython",
    "version": 3
   },
   "file_extension": ".py",
   "mimetype": "text/x-python",
   "name": "python",
   "nbconvert_exporter": "python",
   "pygments_lexer": "ipython3",
   "version": "3.8.16"
  },
  "orig_nbformat": 4
 },
 "nbformat": 4,
 "nbformat_minor": 2
}
